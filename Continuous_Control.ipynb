{
 "cells": [
  {
   "cell_type": "markdown",
   "metadata": {},
   "source": [
    "# Continuous Control\n",
    "\n",
    "---\n",
    "\n",
    "In this notebook, you will learn how to use the Unity ML-Agents environment for the second project of the [Deep Reinforcement Learning Nanodegree](https://www.udacity.com/course/deep-reinforcement-learning-nanodegree--nd893) program.\n",
    "\n",
    "### 1. Start the Environment\n",
    "\n",
    "We begin by importing the necessary packages.  If the code cell below returns an error, please revisit the project instructions to double-check that you have installed [Unity ML-Agents](https://github.com/Unity-Technologies/ml-agents/blob/master/docs/Installation.md) and [NumPy](http://www.numpy.org/)."
   ]
  },
  {
   "cell_type": "code",
   "execution_count": 1,
   "metadata": {},
   "outputs": [],
   "source": [
    "from unityagents import UnityEnvironment\n",
    "import numpy as np"
   ]
  },
  {
   "cell_type": "markdown",
   "metadata": {},
   "source": [
    "Next, we will start the environment!  **_Before running the code cell below_**, change the `file_name` parameter to match the location of the Unity environment that you downloaded.\n",
    "\n",
    "- **Mac**: `\"path/to/Reacher.app\"`\n",
    "- **Windows** (x86): `\"path/to/Reacher_Windows_x86/Reacher.exe\"`\n",
    "- **Windows** (x86_64): `\"path/to/Reacher_Windows_x86_64/Reacher.exe\"`\n",
    "- **Linux** (x86): `\"path/to/Reacher_Linux/Reacher.x86\"`\n",
    "- **Linux** (x86_64): `\"path/to/Reacher_Linux/Reacher.x86_64\"`\n",
    "- **Linux** (x86, headless): `\"path/to/Reacher_Linux_NoVis/Reacher.x86\"`\n",
    "- **Linux** (x86_64, headless): `\"path/to/Reacher_Linux_NoVis/Reacher.x86_64\"`\n",
    "\n",
    "For instance, if you are using a Mac, then you downloaded `Reacher.app`.  If this file is in the same folder as the notebook, then the line below should appear as follows:\n",
    "```\n",
    "env = UnityEnvironment(file_name=\"Reacher.app\")\n",
    "```"
   ]
  },
  {
   "cell_type": "code",
   "execution_count": 2,
   "metadata": {},
   "outputs": [
    {
     "name": "stderr",
     "output_type": "stream",
     "text": [
      "INFO:unityagents:\n",
      "'Academy' started successfully!\n",
      "Unity Academy name: Academy\n",
      "        Number of Brains: 1\n",
      "        Number of External Brains : 1\n",
      "        Lesson number : 0\n",
      "        Reset Parameters :\n",
      "\t\tgoal_speed -> 1.0\n",
      "\t\tgoal_size -> 5.0\n",
      "Unity brain name: ReacherBrain\n",
      "        Number of Visual Observations (per agent): 0\n",
      "        Vector Observation space type: continuous\n",
      "        Vector Observation space size (per agent): 33\n",
      "        Number of stacked Vector Observation: 1\n",
      "        Vector Action space type: continuous\n",
      "        Vector Action space size (per agent): 4\n",
      "        Vector Action descriptions: , , , \n"
     ]
    }
   ],
   "source": [
    "env = UnityEnvironment(file_name='Reacher_Windows_x86_64/Reacher.exe')"
   ]
  },
  {
   "cell_type": "markdown",
   "metadata": {},
   "source": [
    "Environments contain **_brains_** which are responsible for deciding the actions of their associated agents. Here we check for the first brain available, and set it as the default brain we will be controlling from Python."
   ]
  },
  {
   "cell_type": "code",
   "execution_count": 3,
   "metadata": {},
   "outputs": [],
   "source": [
    "# get the default brain\n",
    "brain_name = env.brain_names[0]\n",
    "brain = env.brains[brain_name]"
   ]
  },
  {
   "cell_type": "markdown",
   "metadata": {},
   "source": [
    "### 2. Examine the State and Action Spaces\n",
    "\n",
    "In this environment, a double-jointed arm can move to target locations. A reward of `+0.1` is provided for each step that the agent's hand is in the goal location. Thus, the goal of your agent is to maintain its position at the target location for as many time steps as possible.\n",
    "\n",
    "The observation space consists of `33` variables corresponding to position, rotation, velocity, and angular velocities of the arm.  Each action is a vector with four numbers, corresponding to torque applicable to two joints.  Every entry in the action vector must be a number between `-1` and `1`.\n",
    "\n",
    "Run the code cell below to print some information about the environment."
   ]
  },
  {
   "cell_type": "code",
   "execution_count": 4,
   "metadata": {},
   "outputs": [
    {
     "name": "stdout",
     "output_type": "stream",
     "text": [
      "Number of agents: 20\n",
      "Size of each action: 4\n",
      "There are 20 agents. Each observes a state with length: 33\n",
      "The state for the first agent looks like: [ 0.00000000e+00 -4.00000000e+00  0.00000000e+00  1.00000000e+00\n",
      " -0.00000000e+00 -0.00000000e+00 -4.37113883e-08  0.00000000e+00\n",
      "  0.00000000e+00  0.00000000e+00  0.00000000e+00  0.00000000e+00\n",
      "  0.00000000e+00  0.00000000e+00 -1.00000000e+01  0.00000000e+00\n",
      "  1.00000000e+00 -0.00000000e+00 -0.00000000e+00 -4.37113883e-08\n",
      "  0.00000000e+00  0.00000000e+00  0.00000000e+00  0.00000000e+00\n",
      "  0.00000000e+00  0.00000000e+00  5.75471878e+00 -1.00000000e+00\n",
      "  5.55726624e+00  0.00000000e+00  1.00000000e+00  0.00000000e+00\n",
      " -1.68164849e-01]\n"
     ]
    }
   ],
   "source": [
    "# reset the environment\n",
    "env_info = env.reset(train_mode=True)[brain_name]\n",
    "\n",
    "# number of agents\n",
    "num_agents = len(env_info.agents)\n",
    "print('Number of agents:', num_agents)\n",
    "\n",
    "# size of each action\n",
    "action_size = brain.vector_action_space_size\n",
    "print('Size of each action:', action_size)\n",
    "\n",
    "# examine the state space \n",
    "states = env_info.vector_observations\n",
    "state_size = states.shape[1]\n",
    "print('There are {} agents. Each observes a state with length: {}'.format(states.shape[0], state_size))\n",
    "print('The state for the first agent looks like:', states[0])"
   ]
  },
  {
   "cell_type": "markdown",
   "metadata": {},
   "source": [
    "### 3. Take Random Actions in the Environment\n",
    "\n",
    "In the next code cell, you will learn how to use the Python API to control the agent and receive feedback from the environment.\n",
    "\n",
    "Once this cell is executed, you will watch the agent's performance, if it selects an action at random with each time step.  A window should pop up that allows you to observe the agent, as it moves through the environment.  \n",
    "\n",
    "Of course, as part of the project, you'll have to change the code so that the agent is able to use its experience to gradually choose better actions when interacting with the environment!"
   ]
  },
  {
   "cell_type": "code",
   "execution_count": 5,
   "metadata": {},
   "outputs": [
    {
     "name": "stdout",
     "output_type": "stream",
     "text": [
      "Total score (averaged over agents) this episode: 0.0394999991171062\n"
     ]
    }
   ],
   "source": [
    "env_info = env.reset(train_mode=False)[brain_name]     # reset the environment    \n",
    "states = env_info.vector_observations                  # get the current state (for each agent)\n",
    "scores = np.zeros(num_agents)                          # initialize the score (for each agent)\n",
    "while True:\n",
    "    actions = np.random.randn(num_agents, action_size) # select an action (for each agent)\n",
    "    actions = np.clip(actions, -1, 1)                  # all actions between -1 and 1\n",
    "    env_info = env.step(actions)[brain_name]           # send all actions to tne environment\n",
    "    next_states = env_info.vector_observations         # get next state (for each agent)\n",
    "    rewards = env_info.rewards                         # get reward (for each agent)\n",
    "    dones = env_info.local_done                        # see if episode finished\n",
    "    scores += env_info.rewards                         # update the score (for each agent)\n",
    "    states = next_states                               # roll over states to next time step\n",
    "    if np.any(dones):                                  # exit loop if episode finished\n",
    "        break\n",
    "print('Total score (averaged over agents) this episode: {}'.format(np.mean(scores)))"
   ]
  },
  {
   "cell_type": "markdown",
   "metadata": {},
   "source": [
    "When finished, you can close the environment."
   ]
  },
  {
   "cell_type": "markdown",
   "metadata": {},
   "source": [
    "### 4. It's Your Turn!\n",
    "\n",
    "Now it's your turn to train your own agent to solve the environment!  When training the environment, set `train_mode=True`, so that the line for resetting the environment looks like the following:\n",
    "```python\n",
    "env_info = env.reset(train_mode=True)[brain_name]\n",
    "```"
   ]
  },
  {
   "cell_type": "code",
   "execution_count": 7,
   "metadata": {},
   "outputs": [],
   "source": [
    "import matplotlib.pyplot as plt\n",
    "import random\n",
    "import time\n",
    "import torch\n",
    "from ddpg_agent import Agent\n",
    "from collections import deque\n",
    "\n",
    "%matplotlib inline"
   ]
  },
  {
   "cell_type": "code",
   "execution_count": 16,
   "metadata": {},
   "outputs": [],
   "source": [
    "# DDPG \n",
    "def train_ddpg(n_episodes=1000, max_t=1000, consec_episodes=100, target_score=30.0, print_every=1):\n",
    "    \"\"\"Deep Deterministic Policy Gradient (DDPG)\"\"\"\n",
    "    \n",
    "    scores_all = [] # list of scores from episodes\n",
    "    scores_moving_avgs = [] # list of scores moving averages\n",
    "    scores_window = deque(maxlen=100)  # scores from recent episodes\n",
    "    \n",
    "    for i_episode in range(1, n_episodes+1):\n",
    "        env_info = env.reset(train_mode=True)[brain_name] # reset environment\n",
    "        states = env_info.vector_observations # get current state for each agent      \n",
    "        scores = np.zeros(num_agents) # initialize score for each agent\n",
    "        agent.reset()\n",
    "        \n",
    "        eps_start_time = time.time() # start time to train each episode\n",
    "        for t in range(max_t):\n",
    "            actions = agent.act(states, add_noise=True) # select an action\n",
    "            env_info = env.step(actions)[brain_name] # send actions to environment\n",
    "            next_states = env_info.vector_observations # get next state\n",
    "            rewards = env_info.rewards # get reward\n",
    "            dones = env_info.local_done # see if episode has finished\n",
    "            # update and train agent\n",
    "            for state, action, reward, next_state, done in zip(states, actions, rewards, next_states, dones):\n",
    "                agent.step(state, action, reward, next_state, done, t)             \n",
    "            states = next_states\n",
    "            scores += rewards        \n",
    "            if np.any(dones): # exit loop at end of episode\n",
    "                break\n",
    "\n",
    "        time_per_eps = (time.time() - eps_start_time)/60.0 # end after training each episode\n",
    "        scores_all.append(np.mean(scores)) # save mean score for the episode to list\n",
    "        scores_window.append(scores_all[-1]) # save mean scores to window\n",
    "        scores_moving_avgs.append(np.mean(scores_window)) # save scores moving average to list\n",
    "                \n",
    "        if i_episode % print_every == 0:\n",
    "            print('\\rEpisode {}\\tScore: {:.1f}\\tAvgerage Score: {:.1f}\\tTime per Episode: {:.2f}mins.'.format(i_episode, scores_all[-1], scores_moving_avgs[-1], time_per_eps)) \n",
    "            torch.save(agent.actor_local.state_dict(), 'checkpoint_actor.pth')\n",
    "            torch.save(agent.critic_local.state_dict(), 'checkpoint_critic.pth')\n",
    "            \n",
    "        if scores_moving_avgs[-1] >= target_score and i_episode >= consec_episodes:\n",
    "            print('\\nEnvironment Solved in {} episodes!\\twith Average Scores of: {:.2f}.'.format(i_episode, scores_moving_avgs[-1]))            \n",
    "            torch.save(agent.actor_local.state_dict(), 'checkpoint_actor.pth')\n",
    "            torch.save(agent.critic_local.state_dict(), 'checkpoint_critic.pth')  \n",
    "            break\n",
    "            \n",
    "    return scores_all, scores_moving_avgs"
   ]
  },
  {
   "cell_type": "code",
   "execution_count": 17,
   "metadata": {
    "scrolled": false
   },
   "outputs": [
    {
     "name": "stdout",
     "output_type": "stream",
     "text": [
      "Episode 1\tScore: 0.8\tAvgerage Score: 0.8\tTime per Episode: 6.84mins.\n",
      "Episode 2\tScore: 1.7\tAvgerage Score: 1.2\tTime per Episode: 7.00mins.\n",
      "Episode 3\tScore: 2.1\tAvgerage Score: 1.5\tTime per Episode: 7.01mins.\n",
      "Episode 4\tScore: 2.6\tAvgerage Score: 1.8\tTime per Episode: 6.99mins.\n",
      "Episode 5\tScore: 3.1\tAvgerage Score: 2.1\tTime per Episode: 7.00mins.\n",
      "Episode 6\tScore: 3.6\tAvgerage Score: 2.3\tTime per Episode: 6.98mins.\n",
      "Episode 7\tScore: 3.7\tAvgerage Score: 2.5\tTime per Episode: 6.98mins.\n",
      "Episode 8\tScore: 4.2\tAvgerage Score: 2.7\tTime per Episode: 6.95mins.\n",
      "Episode 9\tScore: 4.6\tAvgerage Score: 2.9\tTime per Episode: 6.97mins.\n",
      "Episode 10\tScore: 5.4\tAvgerage Score: 3.2\tTime per Episode: 7.01mins.\n",
      "Episode 11\tScore: 7.5\tAvgerage Score: 3.6\tTime per Episode: 7.05mins.\n",
      "Episode 12\tScore: 7.0\tAvgerage Score: 3.9\tTime per Episode: 7.08mins.\n",
      "Episode 13\tScore: 7.2\tAvgerage Score: 4.1\tTime per Episode: 7.09mins.\n",
      "Episode 14\tScore: 8.5\tAvgerage Score: 4.4\tTime per Episode: 7.13mins.\n",
      "Episode 15\tScore: 8.6\tAvgerage Score: 4.7\tTime per Episode: 7.16mins.\n",
      "Episode 16\tScore: 9.8\tAvgerage Score: 5.0\tTime per Episode: 7.20mins.\n",
      "Episode 17\tScore: 10.4\tAvgerage Score: 5.3\tTime per Episode: 7.20mins.\n",
      "Episode 18\tScore: 12.1\tAvgerage Score: 5.7\tTime per Episode: 7.23mins.\n",
      "Episode 19\tScore: 13.3\tAvgerage Score: 6.1\tTime per Episode: 7.27mins.\n",
      "Episode 20\tScore: 14.2\tAvgerage Score: 6.5\tTime per Episode: 7.31mins.\n",
      "Episode 21\tScore: 16.1\tAvgerage Score: 7.0\tTime per Episode: 7.38mins.\n",
      "Episode 22\tScore: 15.1\tAvgerage Score: 7.3\tTime per Episode: 7.41mins.\n",
      "Episode 23\tScore: 17.9\tAvgerage Score: 7.8\tTime per Episode: 7.44mins.\n",
      "Episode 24\tScore: 17.4\tAvgerage Score: 8.2\tTime per Episode: 7.47mins.\n",
      "Episode 25\tScore: 18.2\tAvgerage Score: 8.6\tTime per Episode: 7.50mins.\n",
      "Episode 26\tScore: 18.8\tAvgerage Score: 9.0\tTime per Episode: 7.54mins.\n",
      "Episode 27\tScore: 19.9\tAvgerage Score: 9.4\tTime per Episode: 7.62mins.\n",
      "Episode 28\tScore: 23.1\tAvgerage Score: 9.9\tTime per Episode: 7.61mins.\n",
      "Episode 29\tScore: 24.3\tAvgerage Score: 10.4\tTime per Episode: 7.65mins.\n",
      "Episode 30\tScore: 23.5\tAvgerage Score: 10.8\tTime per Episode: 7.67mins.\n",
      "Episode 31\tScore: 24.6\tAvgerage Score: 11.3\tTime per Episode: 7.70mins.\n",
      "Episode 32\tScore: 24.7\tAvgerage Score: 11.7\tTime per Episode: 7.74mins.\n",
      "Episode 33\tScore: 25.7\tAvgerage Score: 12.1\tTime per Episode: 7.75mins.\n",
      "Episode 34\tScore: 25.0\tAvgerage Score: 12.5\tTime per Episode: 7.81mins.\n",
      "Episode 35\tScore: 26.3\tAvgerage Score: 12.9\tTime per Episode: 7.84mins.\n",
      "Episode 36\tScore: 25.5\tAvgerage Score: 13.2\tTime per Episode: 8.00mins.\n",
      "Episode 37\tScore: 28.7\tAvgerage Score: 13.7\tTime per Episode: 8.36mins.\n",
      "Episode 38\tScore: 27.9\tAvgerage Score: 14.0\tTime per Episode: 8.39mins.\n",
      "Episode 39\tScore: 26.9\tAvgerage Score: 14.4\tTime per Episode: 8.55mins.\n",
      "Episode 40\tScore: 28.1\tAvgerage Score: 14.7\tTime per Episode: 8.49mins.\n",
      "Episode 41\tScore: 27.8\tAvgerage Score: 15.0\tTime per Episode: 8.69mins.\n",
      "Episode 42\tScore: 28.1\tAvgerage Score: 15.3\tTime per Episode: 9.13mins.\n",
      "Episode 43\tScore: 28.8\tAvgerage Score: 15.6\tTime per Episode: 8.77mins.\n",
      "Episode 44\tScore: 28.7\tAvgerage Score: 15.9\tTime per Episode: 8.83mins.\n",
      "Episode 45\tScore: 27.9\tAvgerage Score: 16.2\tTime per Episode: 8.65mins.\n",
      "Episode 46\tScore: 29.6\tAvgerage Score: 16.5\tTime per Episode: 8.67mins.\n",
      "Episode 47\tScore: 30.3\tAvgerage Score: 16.8\tTime per Episode: 8.68mins.\n",
      "Episode 48\tScore: 30.1\tAvgerage Score: 17.1\tTime per Episode: 8.72mins.\n",
      "Episode 49\tScore: 29.8\tAvgerage Score: 17.3\tTime per Episode: 8.79mins.\n",
      "Episode 50\tScore: 32.0\tAvgerage Score: 17.6\tTime per Episode: 8.91mins.\n",
      "Episode 51\tScore: 32.8\tAvgerage Score: 17.9\tTime per Episode: 8.85mins.\n",
      "Episode 52\tScore: 31.2\tAvgerage Score: 18.2\tTime per Episode: 8.64mins.\n",
      "Episode 53\tScore: 32.5\tAvgerage Score: 18.4\tTime per Episode: 8.43mins.\n",
      "Episode 54\tScore: 32.4\tAvgerage Score: 18.7\tTime per Episode: 8.45mins.\n",
      "Episode 55\tScore: 32.4\tAvgerage Score: 19.0\tTime per Episode: 8.34mins.\n",
      "Episode 56\tScore: 34.9\tAvgerage Score: 19.2\tTime per Episode: 8.34mins.\n",
      "Episode 57\tScore: 33.5\tAvgerage Score: 19.5\tTime per Episode: 8.36mins.\n",
      "Episode 58\tScore: 34.4\tAvgerage Score: 19.7\tTime per Episode: 8.36mins.\n",
      "Episode 59\tScore: 35.7\tAvgerage Score: 20.0\tTime per Episode: 8.63mins.\n",
      "Episode 60\tScore: 35.9\tAvgerage Score: 20.3\tTime per Episode: 8.77mins.\n",
      "Episode 61\tScore: 35.7\tAvgerage Score: 20.5\tTime per Episode: 8.44mins.\n",
      "Episode 62\tScore: 35.9\tAvgerage Score: 20.8\tTime per Episode: 8.42mins.\n",
      "Episode 63\tScore: 36.7\tAvgerage Score: 21.0\tTime per Episode: 8.41mins.\n",
      "Episode 64\tScore: 35.0\tAvgerage Score: 21.3\tTime per Episode: 8.42mins.\n",
      "Episode 65\tScore: 35.9\tAvgerage Score: 21.5\tTime per Episode: 8.30mins.\n",
      "Episode 66\tScore: 37.3\tAvgerage Score: 21.7\tTime per Episode: 8.46mins.\n",
      "Episode 67\tScore: 36.3\tAvgerage Score: 21.9\tTime per Episode: 8.85mins.\n",
      "Episode 68\tScore: 36.9\tAvgerage Score: 22.2\tTime per Episode: 8.72mins.\n",
      "Episode 69\tScore: 37.2\tAvgerage Score: 22.4\tTime per Episode: 8.86mins.\n",
      "Episode 70\tScore: 37.7\tAvgerage Score: 22.6\tTime per Episode: 8.70mins.\n",
      "Episode 71\tScore: 37.8\tAvgerage Score: 22.8\tTime per Episode: 8.69mins.\n",
      "Episode 72\tScore: 37.2\tAvgerage Score: 23.0\tTime per Episode: 8.73mins.\n",
      "Episode 73\tScore: 37.6\tAvgerage Score: 23.2\tTime per Episode: 8.76mins.\n",
      "Episode 74\tScore: 37.8\tAvgerage Score: 23.4\tTime per Episode: 8.75mins.\n",
      "Episode 75\tScore: 36.9\tAvgerage Score: 23.6\tTime per Episode: 8.76mins.\n",
      "Episode 76\tScore: 38.1\tAvgerage Score: 23.8\tTime per Episode: 8.74mins.\n",
      "Episode 77\tScore: 36.6\tAvgerage Score: 23.9\tTime per Episode: 8.74mins.\n",
      "Episode 78\tScore: 36.5\tAvgerage Score: 24.1\tTime per Episode: 8.72mins.\n",
      "Episode 79\tScore: 37.1\tAvgerage Score: 24.3\tTime per Episode: 8.71mins.\n",
      "Episode 80\tScore: 37.7\tAvgerage Score: 24.4\tTime per Episode: 8.71mins.\n",
      "Episode 81\tScore: 37.9\tAvgerage Score: 24.6\tTime per Episode: 8.74mins.\n",
      "Episode 82\tScore: 38.2\tAvgerage Score: 24.8\tTime per Episode: 8.70mins.\n",
      "Episode 83\tScore: 37.8\tAvgerage Score: 24.9\tTime per Episode: 8.58mins.\n",
      "Episode 84\tScore: 37.9\tAvgerage Score: 25.1\tTime per Episode: 8.58mins.\n",
      "Episode 85\tScore: 38.7\tAvgerage Score: 25.2\tTime per Episode: 8.57mins.\n",
      "Episode 86\tScore: 38.4\tAvgerage Score: 25.4\tTime per Episode: 8.58mins.\n",
      "Episode 87\tScore: 38.7\tAvgerage Score: 25.5\tTime per Episode: 8.68mins.\n",
      "Episode 88\tScore: 38.0\tAvgerage Score: 25.7\tTime per Episode: 8.80mins.\n",
      "Episode 89\tScore: 38.0\tAvgerage Score: 25.8\tTime per Episode: 8.76mins.\n",
      "Episode 90\tScore: 38.0\tAvgerage Score: 26.0\tTime per Episode: 8.77mins.\n",
      "Episode 91\tScore: 38.0\tAvgerage Score: 26.1\tTime per Episode: 8.79mins.\n",
      "Episode 92\tScore: 38.1\tAvgerage Score: 26.2\tTime per Episode: 8.69mins.\n",
      "Episode 93\tScore: 38.4\tAvgerage Score: 26.4\tTime per Episode: 8.58mins.\n",
      "Episode 94\tScore: 38.8\tAvgerage Score: 26.5\tTime per Episode: 8.58mins.\n",
      "Episode 95\tScore: 38.2\tAvgerage Score: 26.6\tTime per Episode: 8.58mins.\n",
      "Episode 96\tScore: 38.5\tAvgerage Score: 26.7\tTime per Episode: 8.60mins.\n",
      "Episode 97\tScore: 37.6\tAvgerage Score: 26.8\tTime per Episode: 8.65mins.\n",
      "Episode 98\tScore: 38.8\tAvgerage Score: 27.0\tTime per Episode: 8.73mins.\n",
      "Episode 99\tScore: 38.1\tAvgerage Score: 27.1\tTime per Episode: 8.73mins.\n",
      "Episode 100\tScore: 37.6\tAvgerage Score: 27.2\tTime per Episode: 8.71mins.\n",
      "Episode 101\tScore: 37.9\tAvgerage Score: 27.6\tTime per Episode: 8.71mins.\n",
      "Episode 102\tScore: 36.8\tAvgerage Score: 27.9\tTime per Episode: 8.64mins.\n",
      "Episode 103\tScore: 38.2\tAvgerage Score: 28.3\tTime per Episode: 8.33mins.\n",
      "Episode 104\tScore: 37.8\tAvgerage Score: 28.6\tTime per Episode: 8.35mins.\n",
      "Episode 105\tScore: 36.6\tAvgerage Score: 29.0\tTime per Episode: 8.36mins.\n",
      "Episode 106\tScore: 35.6\tAvgerage Score: 29.3\tTime per Episode: 8.35mins.\n",
      "Episode 107\tScore: 36.1\tAvgerage Score: 29.6\tTime per Episode: 8.32mins.\n",
      "Episode 108\tScore: 35.6\tAvgerage Score: 29.9\tTime per Episode: 8.34mins.\n",
      "Episode 109\tScore: 35.5\tAvgerage Score: 30.2\tTime per Episode: 8.44mins.\n",
      "\n",
      "Environment Solved in 109 episodes!\twith Average Scores of: 30.22.\n",
      "Total time it took to train the agents: 892.56mins.\n"
     ]
    }
   ],
   "source": [
    "# Train the Agent\n",
    "agent = Agent(state_size=state_size, action_size=action_size, random_seed=33)\n",
    "start_time = time.time() # Time Agents started training\n",
    "scores, avgs_scores = train_ddpg()\n",
    "elapsed_time = (time.time() - start_time)/60.0 # Duration of time it took the Agents to train\n",
    "print(\"Total time it took to train the agents: {0:3.2f}mins.\".format(elapsed_time))"
   ]
  },
  {
   "cell_type": "code",
   "execution_count": 19,
   "metadata": {},
   "outputs": [
    {
     "data": {
      "image/png": "[encoded data removed]",
      "text/plain": [
       "<Figure size 432x288 with 1 Axes>"
      ]
     },
     "metadata": {
      "needs_background": "light"
     },
     "output_type": "display_data"
    }
   ],
   "source": [
    "# Plot the scores of trained DDPG Agents\n",
    "fig = plt.figure()\n",
    "ax = fig.add_subplot(111)\n",
    "plt.plot(np.arange(len(scores)), scores, label='DDPG Agents Scores')\n",
    "plt.plot(np.arange(len(scores)), avgs_scores, c='m', label='Moving Average of Scores')\n",
    "plt.ylabel('Scores')\n",
    "plt.xlabel('Number of Episodes')\n",
    "plt.legend(loc='upper left')\n",
    "plt.show()"
   ]
  },
  {
   "cell_type": "code",
   "execution_count": 20,
   "metadata": {},
   "outputs": [],
   "source": [
    "env.close()"
   ]
  }
 ],
 "metadata": {
  "kernelspec": {
   "display_name": "Python 3",
   "language": "python",
   "name": "python3"
  },
  "language_info": {
   "codemirror_mode": {
    "name": "ipython",
    "version": 3
   },
   "file_extension": ".py",
   "mimetype": "text/x-python",
   "name": "python",
   "nbconvert_exporter": "python",
   "pygments_lexer": "ipython3",
   "version": "3.6.9"
  }
 },
 "nbformat": 4,
 "nbformat_minor": 2
}
